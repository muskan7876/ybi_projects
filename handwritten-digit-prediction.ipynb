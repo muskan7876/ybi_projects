{
 "cells": [
  {
   "cell_type": "markdown",
   "id": "c8d402c2",
   "metadata": {
    "papermill": {
     "duration": 0.015101,
     "end_time": "2024-06-25T07:27:31.216410",
     "exception": false,
     "start_time": "2024-06-25T07:27:31.201309",
     "status": "completed"
    },
    "tags": []
   },
   "source": [
    "****Handwritten Digit Prediction****"
   ]
  },
  {
   "cell_type": "markdown",
   "id": "82f09d50",
   "metadata": {
    "papermill": {
     "duration": 0.01454,
     "end_time": "2024-06-25T07:27:31.246465",
     "exception": false,
     "start_time": "2024-06-25T07:27:31.231925",
     "status": "completed"
    },
    "tags": []
   },
   "source": [
    "**Objective**\n",
    "To identify input digits correctly then analyzed to many automated process systems. This system will be applied to detect the digits of different handwritings."
   ]
  },
  {
   "cell_type": "markdown",
   "id": "1c5e0433",
   "metadata": {
    "papermill": {
     "duration": 0.014465,
     "end_time": "2024-06-25T07:27:31.275788",
     "exception": false,
     "start_time": "2024-06-25T07:27:31.261323",
     "status": "completed"
    },
    "tags": []
   },
   "source": [
    "**Import Library**"
   ]
  },
  {
   "cell_type": "code",
   "execution_count": 1,
   "id": "23338729",
   "metadata": {
    "execution": {
     "iopub.execute_input": "2024-06-25T07:27:31.307379Z",
     "iopub.status.busy": "2024-06-25T07:27:31.306867Z",
     "iopub.status.idle": "2024-06-25T07:27:31.321345Z",
     "shell.execute_reply": "2024-06-25T07:27:31.320475Z"
    },
    "papermill": {
     "duration": 0.033169,
     "end_time": "2024-06-25T07:27:31.323714",
     "exception": false,
     "start_time": "2024-06-25T07:27:31.290545",
     "status": "completed"
    },
    "tags": []
   },
   "outputs": [],
   "source": [
    "import pandas as pd"
   ]
  },
  {
   "cell_type": "code",
   "execution_count": 2,
   "id": "ac3d6c1c",
   "metadata": {
    "execution": {
     "iopub.execute_input": "2024-06-25T07:27:31.355535Z",
     "iopub.status.busy": "2024-06-25T07:27:31.355139Z",
     "iopub.status.idle": "2024-06-25T07:27:31.360465Z",
     "shell.execute_reply": "2024-06-25T07:27:31.359368Z"
    },
    "id": "0Qdb70WPnL1l",
    "papermill": {
     "duration": 0.024386,
     "end_time": "2024-06-25T07:27:31.363035",
     "exception": false,
     "start_time": "2024-06-25T07:27:31.338649",
     "status": "completed"
    },
    "tags": []
   },
   "outputs": [],
   "source": [
    "import numpy as np"
   ]
  },
  {
   "cell_type": "code",
   "execution_count": 3,
   "id": "f8cab04d",
   "metadata": {
    "execution": {
     "iopub.execute_input": "2024-06-25T07:27:31.395649Z",
     "iopub.status.busy": "2024-06-25T07:27:31.395242Z",
     "iopub.status.idle": "2024-06-25T07:27:31.400264Z",
     "shell.execute_reply": "2024-06-25T07:27:31.399171Z"
    },
    "id": "sOgwHO9InOdN",
    "papermill": {
     "duration": 0.024127,
     "end_time": "2024-06-25T07:27:31.402825",
     "exception": false,
     "start_time": "2024-06-25T07:27:31.378698",
     "status": "completed"
    },
    "tags": []
   },
   "outputs": [],
   "source": [
    "import matplotlib.pyplot as plt"
   ]
  },
  {
   "cell_type": "code",
   "execution_count": 4,
   "id": "76957d6f",
   "metadata": {
    "execution": {
     "iopub.execute_input": "2024-06-25T07:27:31.434578Z",
     "iopub.status.busy": "2024-06-25T07:27:31.434191Z",
     "iopub.status.idle": "2024-06-25T07:27:33.033434Z",
     "shell.execute_reply": "2024-06-25T07:27:33.032139Z"
    },
    "id": "esMCz-BLnRpF",
    "papermill": {
     "duration": 1.61896,
     "end_time": "2024-06-25T07:27:33.036836",
     "exception": false,
     "start_time": "2024-06-25T07:27:31.417876",
     "status": "completed"
    },
    "tags": []
   },
   "outputs": [],
   "source": [
    "from sklearn.datasets import load_digits"
   ]
  },
  {
   "cell_type": "code",
   "execution_count": 5,
   "id": "388ac9a2",
   "metadata": {
    "execution": {
     "iopub.execute_input": "2024-06-25T07:27:33.069116Z",
     "iopub.status.busy": "2024-06-25T07:27:33.068646Z",
     "iopub.status.idle": "2024-06-25T07:27:33.097528Z",
     "shell.execute_reply": "2024-06-25T07:27:33.096511Z"
    },
    "id": "fBaoGGulnV5R",
    "papermill": {
     "duration": 0.048529,
     "end_time": "2024-06-25T07:27:33.100375",
     "exception": false,
     "start_time": "2024-06-25T07:27:33.051846",
     "status": "completed"
    },
    "tags": []
   },
   "outputs": [],
   "source": [
    "df = load_digits()"
   ]
  },
  {
   "cell_type": "code",
   "execution_count": 6,
   "id": "f9e29948",
   "metadata": {
    "execution": {
     "iopub.execute_input": "2024-06-25T07:27:33.132019Z",
     "iopub.status.busy": "2024-06-25T07:27:33.131582Z",
     "iopub.status.idle": "2024-06-25T07:27:33.587752Z",
     "shell.execute_reply": "2024-06-25T07:27:33.586370Z"
    },
    "id": "d1s0c6hsnaec",
    "outputId": "30334d27-d1e3-4cb2-9cae-9e0724e72613",
    "papermill": {
     "duration": 0.475699,
     "end_time": "2024-06-25T07:27:33.591034",
     "exception": false,
     "start_time": "2024-06-25T07:27:33.115335",
     "status": "completed"
    },
    "tags": []
   },
   "outputs": [
    {
     "data": {
      "image/png": "[encoded data removed]",
      "text/plain": [
       "<Figure size 1000x300 with 4 Axes>"
      ]
     },
     "metadata": {},
     "output_type": "display_data"
    }
   ],
   "source": [
    "_, axes = plt.subplots(nrows=1, ncols=4, figsize=(10,3))\n",
    "for ax, image, label in zip(axes,df.images,df.target) :\n",
    "  ax.set_axis_off()\n",
    "  ax.imshow(image,cmap=plt.cm.gray_r,interpolation=\"nearest\")\n",
    "  ax.set_title(\"Training: %i\" % label)"
   ]
  },
  {
   "attachments": {
    "0b7171de-8250-42da-a614-e1d86d11639e.png": {
     "image/png": "[encoded data removed]"
    },
    "d41afea4-8e53-4f27-9f85-5e29aa0ad8cc.png": {
     "image/png": "[encoded data removed]"
    }
   },
   "cell_type": "markdown",
   "id": "08d9eb38",
   "metadata": {
    "papermill": {
     "duration": 0.015037,
     "end_time": "2024-06-25T07:27:33.621817",
     "exception": false,
     "start_time": "2024-06-25T07:27:33.606780",
     "status": "completed"
    },
    "tags": []
   },
   "source": [
    "![image.png](attachment:0b7171de-8250-42da-a614-e1d86d11639e.png)![image.png](attachment:d41afea4-8e53-4f27-9f85-5e29aa0ad8cc.png)"
   ]
  },
  {
   "cell_type": "code",
   "execution_count": 7,
   "id": "9824afeb",
   "metadata": {
    "execution": {
     "iopub.execute_input": "2024-06-25T07:27:33.653859Z",
     "iopub.status.busy": "2024-06-25T07:27:33.653396Z",
     "iopub.status.idle": "2024-06-25T07:27:33.660993Z",
     "shell.execute_reply": "2024-06-25T07:27:33.659876Z"
    },
    "id": "zJg8RWBDn8-O",
    "outputId": "680cf101-0624-4c02-f857-23abca08ad35",
    "papermill": {
     "duration": 0.026482,
     "end_time": "2024-06-25T07:27:33.663509",
     "exception": false,
     "start_time": "2024-06-25T07:27:33.637027",
     "status": "completed"
    },
    "tags": []
   },
   "outputs": [
    {
     "data": {
      "text/plain": [
       "(1797, 8, 8)"
      ]
     },
     "execution_count": 7,
     "metadata": {},
     "output_type": "execute_result"
    }
   ],
   "source": [
    "df.images.shape"
   ]
  },
  {
   "cell_type": "markdown",
   "id": "e1d1b894",
   "metadata": {
    "papermill": {
     "duration": 0.014825,
     "end_time": "2024-06-25T07:27:33.693505",
     "exception": false,
     "start_time": "2024-06-25T07:27:33.678680",
     "status": "completed"
    },
    "tags": []
   },
   "source": [
    "(1797, 8, 8)"
   ]
  },
  {
   "cell_type": "code",
   "execution_count": 8,
   "id": "7a10a03d",
   "metadata": {
    "execution": {
     "iopub.execute_input": "2024-06-25T07:27:33.725708Z",
     "iopub.status.busy": "2024-06-25T07:27:33.725271Z",
     "iopub.status.idle": "2024-06-25T07:27:33.733510Z",
     "shell.execute_reply": "2024-06-25T07:27:33.732342Z"
    },
    "id": "Ki4dIp8BoFSY",
    "outputId": "2458d6e8-a901-47ac-9704-53c71b958aff",
    "papermill": {
     "duration": 0.027443,
     "end_time": "2024-06-25T07:27:33.735998",
     "exception": false,
     "start_time": "2024-06-25T07:27:33.708555",
     "status": "completed"
    },
    "tags": []
   },
   "outputs": [
    {
     "data": {
      "text/plain": [
       "array([[ 0.,  0.,  5., 13.,  9.,  1.,  0.,  0.],\n",
       "       [ 0.,  0., 13., 15., 10., 15.,  5.,  0.],\n",
       "       [ 0.,  3., 15.,  2.,  0., 11.,  8.,  0.],\n",
       "       [ 0.,  4., 12.,  0.,  0.,  8.,  8.,  0.],\n",
       "       [ 0.,  5.,  8.,  0.,  0.,  9.,  8.,  0.],\n",
       "       [ 0.,  4., 11.,  0.,  1., 12.,  7.,  0.],\n",
       "       [ 0.,  2., 14.,  5., 10., 12.,  0.,  0.],\n",
       "       [ 0.,  0.,  6., 13., 10.,  0.,  0.,  0.]])"
      ]
     },
     "execution_count": 8,
     "metadata": {},
     "output_type": "execute_result"
    }
   ],
   "source": [
    "df.images[0]"
   ]
  },
  {
   "cell_type": "markdown",
   "id": "7e54b732",
   "metadata": {
    "papermill": {
     "duration": 0.015988,
     "end_time": "2024-06-25T07:27:33.767517",
     "exception": false,
     "start_time": "2024-06-25T07:27:33.751529",
     "status": "completed"
    },
    "tags": []
   },
   "source": [
    "array([[ 0.,  0.,  5., 13.,  9.,  1.,  0.,  0.],\n",
    "       [ 0.,  0., 13., 15., 10., 15.,  5.,  0.],\n",
    "       [ 0.,  3., 15.,  2.,  0., 11.,  8.,  0.],\n",
    "       [ 0.,  4., 12.,  0.,  0.,  8.,  8.,  0.],\n",
    "       [ 0.,  5.,  8.,  0.,  0.,  9.,  8.,  0.],\n",
    "       [ 0.,  4., 11.,  0.,  1., 12.,  7.,  0.],\n",
    "       [ 0.,  2., 14.,  5., 10., 12.,  0.,  0.],\n",
    "       [ 0.,  0.,  6., 13., 10.,  0.,  0.,  0.]])"
   ]
  },
  {
   "cell_type": "code",
   "execution_count": 9,
   "id": "00f27424",
   "metadata": {
    "execution": {
     "iopub.execute_input": "2024-06-25T07:27:33.801688Z",
     "iopub.status.busy": "2024-06-25T07:27:33.800510Z",
     "iopub.status.idle": "2024-06-25T07:27:33.808651Z",
     "shell.execute_reply": "2024-06-25T07:27:33.807538Z"
    },
    "id": "mYR4lnlkoI2m",
    "outputId": "a0258c16-fc68-431f-afcf-42605445340a",
    "papermill": {
     "duration": 0.028662,
     "end_time": "2024-06-25T07:27:33.811549",
     "exception": false,
     "start_time": "2024-06-25T07:27:33.782887",
     "status": "completed"
    },
    "tags": []
   },
   "outputs": [
    {
     "data": {
      "text/plain": [
       "(8, 8)"
      ]
     },
     "execution_count": 9,
     "metadata": {},
     "output_type": "execute_result"
    }
   ],
   "source": [
    "df.images[0].shape"
   ]
  },
  {
   "cell_type": "markdown",
   "id": "d316071c",
   "metadata": {
    "papermill": {
     "duration": 0.015639,
     "end_time": "2024-06-25T07:27:33.843635",
     "exception": false,
     "start_time": "2024-06-25T07:27:33.827996",
     "status": "completed"
    },
    "tags": []
   },
   "source": [
    "(8, 8)"
   ]
  },
  {
   "cell_type": "code",
   "execution_count": 10,
   "id": "7131ebd2",
   "metadata": {
    "execution": {
     "iopub.execute_input": "2024-06-25T07:27:33.876440Z",
     "iopub.status.busy": "2024-06-25T07:27:33.876036Z",
     "iopub.status.idle": "2024-06-25T07:27:33.883416Z",
     "shell.execute_reply": "2024-06-25T07:27:33.882187Z"
    },
    "id": "YgMlMtDeoNmK",
    "outputId": "53abf036-f672-4c64-ad4a-369dce46780a",
    "papermill": {
     "duration": 0.026742,
     "end_time": "2024-06-25T07:27:33.885902",
     "exception": false,
     "start_time": "2024-06-25T07:27:33.859160",
     "status": "completed"
    },
    "tags": []
   },
   "outputs": [
    {
     "data": {
      "text/plain": [
       "1797"
      ]
     },
     "execution_count": 10,
     "metadata": {},
     "output_type": "execute_result"
    }
   ],
   "source": [
    "len(df.images)"
   ]
  },
  {
   "cell_type": "markdown",
   "id": "085a8516",
   "metadata": {
    "papermill": {
     "duration": 0.015402,
     "end_time": "2024-06-25T07:27:33.917633",
     "exception": false,
     "start_time": "2024-06-25T07:27:33.902231",
     "status": "completed"
    },
    "tags": []
   },
   "source": [
    "1797"
   ]
  },
  {
   "cell_type": "code",
   "execution_count": 11,
   "id": "32b90c46",
   "metadata": {
    "execution": {
     "iopub.execute_input": "2024-06-25T07:27:33.951796Z",
     "iopub.status.busy": "2024-06-25T07:27:33.951362Z",
     "iopub.status.idle": "2024-06-25T07:27:33.957345Z",
     "shell.execute_reply": "2024-06-25T07:27:33.956036Z"
    },
    "id": "GvGdEG9OoQPk",
    "papermill": {
     "duration": 0.025879,
     "end_time": "2024-06-25T07:27:33.960029",
     "exception": false,
     "start_time": "2024-06-25T07:27:33.934150",
     "status": "completed"
    },
    "tags": []
   },
   "outputs": [],
   "source": [
    "n_samples = len(df.images)\n",
    "data = df.images.reshape((n_samples,-1))"
   ]
  },
  {
   "cell_type": "code",
   "execution_count": 12,
   "id": "061f3948",
   "metadata": {
    "execution": {
     "iopub.execute_input": "2024-06-25T07:27:33.993362Z",
     "iopub.status.busy": "2024-06-25T07:27:33.992944Z",
     "iopub.status.idle": "2024-06-25T07:27:34.001085Z",
     "shell.execute_reply": "2024-06-25T07:27:33.999892Z"
    },
    "id": "R3iBuocGoYFr",
    "outputId": "d55db805-45cd-4465-f7d9-e35a9ac7b789",
    "papermill": {
     "duration": 0.027535,
     "end_time": "2024-06-25T07:27:34.003442",
     "exception": false,
     "start_time": "2024-06-25T07:27:33.975907",
     "status": "completed"
    },
    "tags": []
   },
   "outputs": [
    {
     "data": {
      "text/plain": [
       "array([ 0.,  0.,  5., 13.,  9.,  1.,  0.,  0.,  0.,  0., 13., 15., 10.,\n",
       "       15.,  5.,  0.,  0.,  3., 15.,  2.,  0., 11.,  8.,  0.,  0.,  4.,\n",
       "       12.,  0.,  0.,  8.,  8.,  0.,  0.,  5.,  8.,  0.,  0.,  9.,  8.,\n",
       "        0.,  0.,  4., 11.,  0.,  1., 12.,  7.,  0.,  0.,  2., 14.,  5.,\n",
       "       10., 12.,  0.,  0.,  0.,  0.,  6., 13., 10.,  0.,  0.,  0.])"
      ]
     },
     "execution_count": 12,
     "metadata": {},
     "output_type": "execute_result"
    }
   ],
   "source": [
    "data[0]"
   ]
  },
  {
   "cell_type": "markdown",
   "id": "921b07a4",
   "metadata": {
    "papermill": {
     "duration": 0.015546,
     "end_time": "2024-06-25T07:27:34.035359",
     "exception": false,
     "start_time": "2024-06-25T07:27:34.019813",
     "status": "completed"
    },
    "tags": []
   },
   "source": [
    "array([ 0.,  0.,  5., 13.,  9.,  1.,  0.,  0.,  0.,  0., 13., 15., 10.,\n",
    "       15.,  5.,  0.,  0.,  3., 15.,  2.,  0., 11.,  8.,  0.,  0.,  4.,\n",
    "       12.,  0.,  0.,  8.,  8.,  0.,  0.,  5.,  8.,  0.,  0.,  9.,  8.,\n",
    "        0.,  0.,  4., 11.,  0.,  1., 12.,  7.,  0.,  0.,  2., 14.,  5.,\n",
    "       10., 12.,  0.,  0.,  0.,  0.,  6., 13., 10.,  0.,  0.,  0.])"
   ]
  },
  {
   "cell_type": "code",
   "execution_count": 13,
   "id": "3b793d1d",
   "metadata": {
    "execution": {
     "iopub.execute_input": "2024-06-25T07:27:34.068877Z",
     "iopub.status.busy": "2024-06-25T07:27:34.068440Z",
     "iopub.status.idle": "2024-06-25T07:27:34.075567Z",
     "shell.execute_reply": "2024-06-25T07:27:34.074456Z"
    },
    "id": "QXA7Eg3uobhO",
    "outputId": "c5aa134b-9b09-4d24-ea69-a7567ad7b3e3",
    "papermill": {
     "duration": 0.026841,
     "end_time": "2024-06-25T07:27:34.077998",
     "exception": false,
     "start_time": "2024-06-25T07:27:34.051157",
     "status": "completed"
    },
    "tags": []
   },
   "outputs": [
    {
     "data": {
      "text/plain": [
       "(64,)"
      ]
     },
     "execution_count": 13,
     "metadata": {},
     "output_type": "execute_result"
    }
   ],
   "source": [
    "data[0].shape"
   ]
  },
  {
   "cell_type": "markdown",
   "id": "b7e0b136",
   "metadata": {
    "papermill": {
     "duration": 0.016155,
     "end_time": "2024-06-25T07:27:34.110284",
     "exception": false,
     "start_time": "2024-06-25T07:27:34.094129",
     "status": "completed"
    },
    "tags": []
   },
   "source": [
    "(64,)"
   ]
  },
  {
   "cell_type": "code",
   "execution_count": 14,
   "id": "64085dd2",
   "metadata": {
    "execution": {
     "iopub.execute_input": "2024-06-25T07:27:34.144113Z",
     "iopub.status.busy": "2024-06-25T07:27:34.143729Z",
     "iopub.status.idle": "2024-06-25T07:27:34.150801Z",
     "shell.execute_reply": "2024-06-25T07:27:34.149674Z"
    },
    "id": "qOlL_fRXobpU",
    "outputId": "bb0e8e98-f934-4b9b-a169-e1b3f26bf98c",
    "papermill": {
     "duration": 0.027125,
     "end_time": "2024-06-25T07:27:34.153364",
     "exception": false,
     "start_time": "2024-06-25T07:27:34.126239",
     "status": "completed"
    },
    "tags": []
   },
   "outputs": [
    {
     "data": {
      "text/plain": [
       "(1797, 64)"
      ]
     },
     "execution_count": 14,
     "metadata": {},
     "output_type": "execute_result"
    }
   ],
   "source": [
    "data.shape"
   ]
  },
  {
   "cell_type": "markdown",
   "id": "542fc392",
   "metadata": {
    "papermill": {
     "duration": 0.015729,
     "end_time": "2024-06-25T07:27:34.185246",
     "exception": false,
     "start_time": "2024-06-25T07:27:34.169517",
     "status": "completed"
    },
    "tags": []
   },
   "source": [
    "(1797, 64)"
   ]
  },
  {
   "cell_type": "code",
   "execution_count": 15,
   "id": "9e8fa99a",
   "metadata": {
    "execution": {
     "iopub.execute_input": "2024-06-25T07:27:34.220868Z",
     "iopub.status.busy": "2024-06-25T07:27:34.220398Z",
     "iopub.status.idle": "2024-06-25T07:27:34.228264Z",
     "shell.execute_reply": "2024-06-25T07:27:34.227147Z"
    },
    "id": "IcSuG8yiongX",
    "outputId": "53f141d1-90b2-4dd2-d2f3-0168f8af0b2b",
    "papermill": {
     "duration": 0.029606,
     "end_time": "2024-06-25T07:27:34.230856",
     "exception": false,
     "start_time": "2024-06-25T07:27:34.201250",
     "status": "completed"
    },
    "tags": []
   },
   "outputs": [
    {
     "data": {
      "text/plain": [
       "0.0"
      ]
     },
     "execution_count": 15,
     "metadata": {},
     "output_type": "execute_result"
    }
   ],
   "source": [
    "data.min()"
   ]
  },
  {
   "cell_type": "markdown",
   "id": "dd5d05f2",
   "metadata": {
    "papermill": {
     "duration": 0.01633,
     "end_time": "2024-06-25T07:27:34.263573",
     "exception": false,
     "start_time": "2024-06-25T07:27:34.247243",
     "status": "completed"
    },
    "tags": []
   },
   "source": [
    "0.0"
   ]
  },
  {
   "cell_type": "code",
   "execution_count": 16,
   "id": "40975124",
   "metadata": {
    "execution": {
     "iopub.execute_input": "2024-06-25T07:27:34.297776Z",
     "iopub.status.busy": "2024-06-25T07:27:34.297354Z",
     "iopub.status.idle": "2024-06-25T07:27:34.305758Z",
     "shell.execute_reply": "2024-06-25T07:27:34.304607Z"
    },
    "id": "ec2iQ5vloqZx",
    "outputId": "83a98262-1ea8-423f-e6a2-c68da81f7cd2",
    "papermill": {
     "duration": 0.028533,
     "end_time": "2024-06-25T07:27:34.308250",
     "exception": false,
     "start_time": "2024-06-25T07:27:34.279717",
     "status": "completed"
    },
    "tags": []
   },
   "outputs": [
    {
     "data": {
      "text/plain": [
       "16.0"
      ]
     },
     "execution_count": 16,
     "metadata": {},
     "output_type": "execute_result"
    }
   ],
   "source": [
    "data.max()"
   ]
  },
  {
   "cell_type": "markdown",
   "id": "2f0bfef4",
   "metadata": {
    "papermill": {
     "duration": 0.016245,
     "end_time": "2024-06-25T07:27:34.340872",
     "exception": false,
     "start_time": "2024-06-25T07:27:34.324627",
     "status": "completed"
    },
    "tags": []
   },
   "source": [
    "16.0"
   ]
  },
  {
   "cell_type": "code",
   "execution_count": 17,
   "id": "5872313d",
   "metadata": {
    "execution": {
     "iopub.execute_input": "2024-06-25T07:27:34.375465Z",
     "iopub.status.busy": "2024-06-25T07:27:34.375027Z",
     "iopub.status.idle": "2024-06-25T07:27:34.380509Z",
     "shell.execute_reply": "2024-06-25T07:27:34.379280Z"
    },
    "id": "coja0t8Pots1",
    "papermill": {
     "duration": 0.025962,
     "end_time": "2024-06-25T07:27:34.383254",
     "exception": false,
     "start_time": "2024-06-25T07:27:34.357292",
     "status": "completed"
    },
    "tags": []
   },
   "outputs": [],
   "source": [
    "data=data/16"
   ]
  },
  {
   "cell_type": "code",
   "execution_count": 18,
   "id": "1a730845",
   "metadata": {
    "execution": {
     "iopub.execute_input": "2024-06-25T07:27:34.417733Z",
     "iopub.status.busy": "2024-06-25T07:27:34.417330Z",
     "iopub.status.idle": "2024-06-25T07:27:34.425376Z",
     "shell.execute_reply": "2024-06-25T07:27:34.424160Z"
    },
    "id": "WklOq8MUovYz",
    "outputId": "8d50130e-1e29-4792-aa4c-d4a7525f763e",
    "papermill": {
     "duration": 0.028266,
     "end_time": "2024-06-25T07:27:34.428013",
     "exception": false,
     "start_time": "2024-06-25T07:27:34.399747",
     "status": "completed"
    },
    "tags": []
   },
   "outputs": [
    {
     "data": {
      "text/plain": [
       "0.0"
      ]
     },
     "execution_count": 18,
     "metadata": {},
     "output_type": "execute_result"
    }
   ],
   "source": [
    "data.min()"
   ]
  },
  {
   "cell_type": "markdown",
   "id": "b7d407ab",
   "metadata": {
    "papermill": {
     "duration": 0.017278,
     "end_time": "2024-06-25T07:27:34.462274",
     "exception": false,
     "start_time": "2024-06-25T07:27:34.444996",
     "status": "completed"
    },
    "tags": []
   },
   "source": [
    "0.0"
   ]
  },
  {
   "cell_type": "code",
   "execution_count": 19,
   "id": "b375d01c",
   "metadata": {
    "execution": {
     "iopub.execute_input": "2024-06-25T07:27:34.497275Z",
     "iopub.status.busy": "2024-06-25T07:27:34.496875Z",
     "iopub.status.idle": "2024-06-25T07:27:34.504453Z",
     "shell.execute_reply": "2024-06-25T07:27:34.503326Z"
    },
    "id": "-lKSjSkvoxsv",
    "outputId": "65d1cf73-fd8e-4c6b-ba70-f91f9fe68dcd",
    "papermill": {
     "duration": 0.028017,
     "end_time": "2024-06-25T07:27:34.506998",
     "exception": false,
     "start_time": "2024-06-25T07:27:34.478981",
     "status": "completed"
    },
    "tags": []
   },
   "outputs": [
    {
     "data": {
      "text/plain": [
       "1.0"
      ]
     },
     "execution_count": 19,
     "metadata": {},
     "output_type": "execute_result"
    }
   ],
   "source": [
    "data.max()"
   ]
  },
  {
   "cell_type": "markdown",
   "id": "c3b39009",
   "metadata": {
    "papermill": {
     "duration": 0.016562,
     "end_time": "2024-06-25T07:27:34.541194",
     "exception": false,
     "start_time": "2024-06-25T07:27:34.524632",
     "status": "completed"
    },
    "tags": []
   },
   "source": [
    "1.0"
   ]
  },
  {
   "cell_type": "code",
   "execution_count": 20,
   "id": "1bf666a5",
   "metadata": {
    "execution": {
     "iopub.execute_input": "2024-06-25T07:27:34.576188Z",
     "iopub.status.busy": "2024-06-25T07:27:34.575799Z",
     "iopub.status.idle": "2024-06-25T07:27:34.583761Z",
     "shell.execute_reply": "2024-06-25T07:27:34.582720Z"
    },
    "id": "4Ybf47X7ozrZ",
    "outputId": "456aaea0-a5e4-4a87-c74a-a71ba581cb97",
    "papermill": {
     "duration": 0.028378,
     "end_time": "2024-06-25T07:27:34.586277",
     "exception": false,
     "start_time": "2024-06-25T07:27:34.557899",
     "status": "completed"
    },
    "tags": []
   },
   "outputs": [
    {
     "data": {
      "text/plain": [
       "array([0.    , 0.    , 0.3125, 0.8125, 0.5625, 0.0625, 0.    , 0.    ,\n",
       "       0.    , 0.    , 0.8125, 0.9375, 0.625 , 0.9375, 0.3125, 0.    ,\n",
       "       0.    , 0.1875, 0.9375, 0.125 , 0.    , 0.6875, 0.5   , 0.    ,\n",
       "       0.    , 0.25  , 0.75  , 0.    , 0.    , 0.5   , 0.5   , 0.    ,\n",
       "       0.    , 0.3125, 0.5   , 0.    , 0.    , 0.5625, 0.5   , 0.    ,\n",
       "       0.    , 0.25  , 0.6875, 0.    , 0.0625, 0.75  , 0.4375, 0.    ,\n",
       "       0.    , 0.125 , 0.875 , 0.3125, 0.625 , 0.75  , 0.    , 0.    ,\n",
       "       0.    , 0.    , 0.375 , 0.8125, 0.625 , 0.    , 0.    , 0.    ])"
      ]
     },
     "execution_count": 20,
     "metadata": {},
     "output_type": "execute_result"
    }
   ],
   "source": [
    "data[0]"
   ]
  },
  {
   "cell_type": "markdown",
   "id": "1f2c6c17",
   "metadata": {
    "papermill": {
     "duration": 0.016422,
     "end_time": "2024-06-25T07:27:34.619717",
     "exception": false,
     "start_time": "2024-06-25T07:27:34.603295",
     "status": "completed"
    },
    "tags": []
   },
   "source": [
    "array([0.    , 0.    , 0.3125, 0.8125, 0.5625, 0.0625, 0.    , 0.    ,\n",
    "       0.    , 0.    , 0.8125, 0.9375, 0.625 , 0.9375, 0.3125, 0.    ,\n",
    "       0.    , 0.1875, 0.9375, 0.125 , 0.    , 0.6875, 0.5   , 0.    ,\n",
    "       0.    , 0.25  , 0.75  , 0.    , 0.    , 0.5   , 0.5   , 0.    ,\n",
    "       0.    , 0.3125, 0.5   , 0.    , 0.    , 0.5625, 0.5   , 0.    ,\n",
    "       0.    , 0.25  , 0.6875, 0.    , 0.0625, 0.75  , 0.4375, 0.    ,\n",
    "       0.    , 0.125 , 0.875 , 0.3125, 0.625 , 0.75  , 0.    , 0.    ,\n",
    "       0.    , 0.    , 0.375 , 0.8125, 0.625 , 0.    , 0.    , 0.    ])"
   ]
  },
  {
   "cell_type": "code",
   "execution_count": 21,
   "id": "2f60cc9a",
   "metadata": {
    "execution": {
     "iopub.execute_input": "2024-06-25T07:27:34.654929Z",
     "iopub.status.busy": "2024-06-25T07:27:34.654534Z",
     "iopub.status.idle": "2024-06-25T07:27:34.767901Z",
     "shell.execute_reply": "2024-06-25T07:27:34.766589Z"
    },
    "id": "0GyzYdfao2Un",
    "papermill": {
     "duration": 0.13439,
     "end_time": "2024-06-25T07:27:34.770842",
     "exception": false,
     "start_time": "2024-06-25T07:27:34.636452",
     "status": "completed"
    },
    "tags": []
   },
   "outputs": [],
   "source": [
    "from sklearn.model_selection import train_test_split"
   ]
  },
  {
   "cell_type": "code",
   "execution_count": 22,
   "id": "c26eea54",
   "metadata": {
    "execution": {
     "iopub.execute_input": "2024-06-25T07:27:34.807353Z",
     "iopub.status.busy": "2024-06-25T07:27:34.806959Z",
     "iopub.status.idle": "2024-06-25T07:27:34.814027Z",
     "shell.execute_reply": "2024-06-25T07:27:34.812744Z"
    },
    "id": "1ATYvN30o_49",
    "papermill": {
     "duration": 0.028203,
     "end_time": "2024-06-25T07:27:34.816533",
     "exception": false,
     "start_time": "2024-06-25T07:27:34.788330",
     "status": "completed"
    },
    "tags": []
   },
   "outputs": [],
   "source": [
    "X_train, X_test, y_train, y_test = train_test_split(data,df.target,test_size=0.3)"
   ]
  },
  {
   "cell_type": "code",
   "execution_count": 23,
   "id": "7fb9b65c",
   "metadata": {
    "execution": {
     "iopub.execute_input": "2024-06-25T07:27:34.853248Z",
     "iopub.status.busy": "2024-06-25T07:27:34.852855Z",
     "iopub.status.idle": "2024-06-25T07:27:34.861029Z",
     "shell.execute_reply": "2024-06-25T07:27:34.859858Z"
    },
    "id": "HztQ2vqApJQH",
    "outputId": "cb0e7447-debc-4ee3-c6ad-6ec180b6d71c",
    "papermill": {
     "duration": 0.029246,
     "end_time": "2024-06-25T07:27:34.863511",
     "exception": false,
     "start_time": "2024-06-25T07:27:34.834265",
     "status": "completed"
    },
    "tags": []
   },
   "outputs": [
    {
     "data": {
      "text/plain": [
       "((1257, 64), (540, 64), (1257,), (540,))"
      ]
     },
     "execution_count": 23,
     "metadata": {},
     "output_type": "execute_result"
    }
   ],
   "source": [
    "X_train.shape, X_test.shape, y_train.shape, y_test.shape"
   ]
  },
  {
   "cell_type": "markdown",
   "id": "a32eca33",
   "metadata": {
    "papermill": {
     "duration": 0.016672,
     "end_time": "2024-06-25T07:27:34.897212",
     "exception": false,
     "start_time": "2024-06-25T07:27:34.880540",
     "status": "completed"
    },
    "tags": []
   },
   "source": [
    "((1257, 64), (540, 64), (1257,), (540,))"
   ]
  },
  {
   "cell_type": "code",
   "execution_count": 24,
   "id": "7a66b6e7",
   "metadata": {
    "execution": {
     "iopub.execute_input": "2024-06-25T07:27:34.933489Z",
     "iopub.status.busy": "2024-06-25T07:27:34.933072Z",
     "iopub.status.idle": "2024-06-25T07:27:35.357397Z",
     "shell.execute_reply": "2024-06-25T07:27:35.356056Z"
    },
    "id": "T44NmWI-pPzX",
    "papermill": {
     "duration": 0.445744,
     "end_time": "2024-06-25T07:27:35.360396",
     "exception": false,
     "start_time": "2024-06-25T07:27:34.914652",
     "status": "completed"
    },
    "tags": []
   },
   "outputs": [],
   "source": [
    "from sklearn.ensemble import RandomForestClassifier"
   ]
  },
  {
   "cell_type": "code",
   "execution_count": 25,
   "id": "3976d1c2",
   "metadata": {
    "execution": {
     "iopub.execute_input": "2024-06-25T07:27:35.396295Z",
     "iopub.status.busy": "2024-06-25T07:27:35.395875Z",
     "iopub.status.idle": "2024-06-25T07:27:35.401180Z",
     "shell.execute_reply": "2024-06-25T07:27:35.399874Z"
    },
    "id": "UFX-ePdYpW9S",
    "papermill": {
     "duration": 0.026399,
     "end_time": "2024-06-25T07:27:35.404027",
     "exception": false,
     "start_time": "2024-06-25T07:27:35.377628",
     "status": "completed"
    },
    "tags": []
   },
   "outputs": [],
   "source": [
    "rf = RandomForestClassifier()"
   ]
  },
  {
   "cell_type": "code",
   "execution_count": 26,
   "id": "e1ca471c",
   "metadata": {
    "execution": {
     "iopub.execute_input": "2024-06-25T07:27:35.440634Z",
     "iopub.status.busy": "2024-06-25T07:27:35.439650Z",
     "iopub.status.idle": "2024-06-25T07:27:35.924700Z",
     "shell.execute_reply": "2024-06-25T07:27:35.923313Z"
    },
    "id": "rJCIvpgXpY2K",
    "outputId": "2f0b092f-16eb-4d3c-8c5d-574f3837cae5",
    "papermill": {
     "duration": 0.506387,
     "end_time": "2024-06-25T07:27:35.927557",
     "exception": false,
     "start_time": "2024-06-25T07:27:35.421170",
     "status": "completed"
    },
    "tags": []
   },
   "outputs": [
    {
     "data": {
      "text/html": [
       "<style>#sk-container-id-1 {color: black;background-color: white;}#sk-container-id-1 pre{padding: 0;}#sk-container-id-1 div.sk-toggleable {background-color: white;}#sk-container-id-1 label.sk-toggleable__label {cursor: pointer;display: block;width: 100%;margin-bottom: 0;padding: 0.3em;box-sizing: border-box;text-align: center;}#sk-container-id-1 label.sk-toggleable__label-arrow:before {content: \"▸\";float: left;margin-right: 0.25em;color: #696969;}#sk-container-id-1 label.sk-toggleable__label-arrow:hover:before {color: black;}#sk-container-id-1 div.sk-estimator:hover label.sk-toggleable__label-arrow:before {color: black;}#sk-container-id-1 div.sk-toggleable__content {max-height: 0;max-width: 0;overflow: hidden;text-align: left;background-color: #f0f8ff;}#sk-container-id-1 div.sk-toggleable__content pre {margin: 0.2em;color: black;border-radius: 0.25em;background-color: #f0f8ff;}#sk-container-id-1 input.sk-toggleable__control:checked~div.sk-toggleable__content {max-height: 200px;max-width: 100%;overflow: auto;}#sk-container-id-1 input.sk-toggleable__control:checked~label.sk-toggleable__label-arrow:before {content: \"▾\";}#sk-container-id-1 div.sk-estimator input.sk-toggleable__control:checked~label.sk-toggleable__label {background-color: #d4ebff;}#sk-container-id-1 div.sk-label input.sk-toggleable__control:checked~label.sk-toggleable__label {background-color: #d4ebff;}#sk-container-id-1 input.sk-hidden--visually {border: 0;clip: rect(1px 1px 1px 1px);clip: rect(1px, 1px, 1px, 1px);height: 1px;margin: -1px;overflow: hidden;padding: 0;position: absolute;width: 1px;}#sk-container-id-1 div.sk-estimator {font-family: monospace;background-color: #f0f8ff;border: 1px dotted black;border-radius: 0.25em;box-sizing: border-box;margin-bottom: 0.5em;}#sk-container-id-1 div.sk-estimator:hover {background-color: #d4ebff;}#sk-container-id-1 div.sk-parallel-item::after {content: \"\";width: 100%;border-bottom: 1px solid gray;flex-grow: 1;}#sk-container-id-1 div.sk-label:hover label.sk-toggleable__label {background-color: #d4ebff;}#sk-container-id-1 div.sk-serial::before {content: \"\";position: absolute;border-left: 1px solid gray;box-sizing: border-box;top: 0;bottom: 0;left: 50%;z-index: 0;}#sk-container-id-1 div.sk-serial {display: flex;flex-direction: column;align-items: center;background-color: white;padding-right: 0.2em;padding-left: 0.2em;position: relative;}#sk-container-id-1 div.sk-item {position: relative;z-index: 1;}#sk-container-id-1 div.sk-parallel {display: flex;align-items: stretch;justify-content: center;background-color: white;position: relative;}#sk-container-id-1 div.sk-item::before, #sk-container-id-1 div.sk-parallel-item::before {content: \"\";position: absolute;border-left: 1px solid gray;box-sizing: border-box;top: 0;bottom: 0;left: 50%;z-index: -1;}#sk-container-id-1 div.sk-parallel-item {display: flex;flex-direction: column;z-index: 1;position: relative;background-color: white;}#sk-container-id-1 div.sk-parallel-item:first-child::after {align-self: flex-end;width: 50%;}#sk-container-id-1 div.sk-parallel-item:last-child::after {align-self: flex-start;width: 50%;}#sk-container-id-1 div.sk-parallel-item:only-child::after {width: 0;}#sk-container-id-1 div.sk-dashed-wrapped {border: 1px dashed gray;margin: 0 0.4em 0.5em 0.4em;box-sizing: border-box;padding-bottom: 0.4em;background-color: white;}#sk-container-id-1 div.sk-label label {font-family: monospace;font-weight: bold;display: inline-block;line-height: 1.2em;}#sk-container-id-1 div.sk-label-container {text-align: center;}#sk-container-id-1 div.sk-container {/* jupyter's `normalize.less` sets `[hidden] { display: none; }` but bootstrap.min.css set `[hidden] { display: none !important; }` so we also need the `!important` here to be able to override the default hidden behavior on the sphinx rendered scikit-learn.org. See: https://github.com/scikit-learn/scikit-learn/issues/21755 */display: inline-block !important;position: relative;}#sk-container-id-1 div.sk-text-repr-fallback {display: none;}</style><div id=\"sk-container-id-1\" class=\"sk-top-container\"><div class=\"sk-text-repr-fallback\"><pre>RandomForestClassifier()</pre><b>In a Jupyter environment, please rerun this cell to show the HTML representation or trust the notebook. <br />On GitHub, the HTML representation is unable to render, please try loading this page with nbviewer.org.</b></div><div class=\"sk-container\" hidden><div class=\"sk-item\"><div class=\"sk-estimator sk-toggleable\"><input class=\"sk-toggleable__control sk-hidden--visually\" id=\"sk-estimator-id-1\" type=\"checkbox\" checked><label for=\"sk-estimator-id-1\" class=\"sk-toggleable__label sk-toggleable__label-arrow\">RandomForestClassifier</label><div class=\"sk-toggleable__content\"><pre>RandomForestClassifier()</pre></div></div></div></div></div>"
      ],
      "text/plain": [
       "RandomForestClassifier()"
      ]
     },
     "execution_count": 26,
     "metadata": {},
     "output_type": "execute_result"
    }
   ],
   "source": [
    "rf.fit(X_train,y_train)"
   ]
  },
  {
   "cell_type": "code",
   "execution_count": 27,
   "id": "a8dbc1e3",
   "metadata": {
    "execution": {
     "iopub.execute_input": "2024-06-25T07:27:35.969338Z",
     "iopub.status.busy": "2024-06-25T07:27:35.968934Z",
     "iopub.status.idle": "2024-06-25T07:27:36.002381Z",
     "shell.execute_reply": "2024-06-25T07:27:36.001135Z"
    },
    "id": "6vwgSMkFpeVt",
    "papermill": {
     "duration": 0.058061,
     "end_time": "2024-06-25T07:27:36.005223",
     "exception": false,
     "start_time": "2024-06-25T07:27:35.947162",
     "status": "completed"
    },
    "tags": []
   },
   "outputs": [],
   "source": [
    "y_pred = rf.predict(X_test)"
   ]
  },
  {
   "cell_type": "code",
   "execution_count": 28,
   "id": "1caacab2",
   "metadata": {
    "execution": {
     "iopub.execute_input": "2024-06-25T07:27:36.042489Z",
     "iopub.status.busy": "2024-06-25T07:27:36.042067Z",
     "iopub.status.idle": "2024-06-25T07:27:36.051568Z",
     "shell.execute_reply": "2024-06-25T07:27:36.050377Z"
    },
    "id": "8mZGo4TXpjfR",
    "outputId": "34b3ab44-e26c-4eeb-8f29-51c1c5a352b1",
    "papermill": {
     "duration": 0.031573,
     "end_time": "2024-06-25T07:27:36.054192",
     "exception": false,
     "start_time": "2024-06-25T07:27:36.022619",
     "status": "completed"
    },
    "tags": []
   },
   "outputs": [
    {
     "data": {
      "text/plain": [
       "array([3, 3, 5, 1, 5, 0, 1, 1, 8, 4, 3, 5, 5, 3, 2, 7, 6, 9, 9, 6, 0, 4,\n",
       "       3, 4, 1, 0, 6, 6, 6, 1, 8, 5, 4, 8, 2, 5, 1, 2, 2, 5, 4, 3, 9, 2,\n",
       "       4, 0, 7, 6, 7, 8, 8, 9, 8, 7, 4, 7, 1, 4, 4, 0, 6, 9, 5, 5, 4, 6,\n",
       "       4, 1, 4, 8, 8, 2, 0, 7, 4, 1, 3, 8, 0, 3, 3, 9, 7, 3, 8, 7, 9, 7,\n",
       "       8, 1, 0, 6, 2, 8, 1, 2, 6, 6, 6, 9, 8, 2, 5, 7, 9, 5, 0, 5, 0, 0,\n",
       "       4, 6, 4, 8, 1, 4, 0, 9, 1, 8, 0, 4, 6, 4, 6, 4, 2, 4, 8, 2, 6, 4,\n",
       "       6, 7, 1, 7, 2, 5, 6, 1, 1, 8, 6, 8, 0, 4, 5, 1, 8, 1, 7, 7, 0, 3,\n",
       "       1, 5, 1, 7, 9, 1, 9, 2, 4, 9, 9, 0, 7, 2, 0, 1, 4, 4, 7, 4, 4, 7,\n",
       "       7, 1, 6, 4, 9, 0, 3, 8, 1, 0, 1, 3, 4, 3, 7, 6, 2, 4, 1, 0, 1, 2,\n",
       "       7, 6, 7, 6, 0, 8, 6, 0, 1, 3, 3, 9, 2, 1, 3, 1, 4, 1, 2, 0, 9, 9,\n",
       "       5, 6, 5, 6, 3, 1, 8, 9, 6, 4, 6, 9, 6, 2, 8, 6, 8, 3, 7, 0, 5, 9,\n",
       "       7, 4, 8, 9, 6, 5, 8, 9, 0, 7, 8, 4, 2, 2, 3, 3, 1, 3, 2, 5, 6, 0,\n",
       "       4, 3, 2, 8, 8, 9, 6, 6, 1, 3, 8, 7, 1, 7, 8, 5, 3, 9, 1, 5, 5, 8,\n",
       "       1, 6, 6, 2, 4, 6, 9, 1, 4, 1, 3, 3, 2, 5, 1, 1, 8, 6, 9, 9, 3, 5,\n",
       "       9, 0, 5, 1, 8, 6, 6, 3, 2, 7, 1, 8, 9, 0, 4, 4, 9, 4, 9, 4, 6, 2,\n",
       "       2, 2, 7, 9, 5, 4, 8, 3, 2, 3, 7, 6, 6, 4, 9, 0, 7, 1, 6, 8, 6, 3,\n",
       "       3, 1, 7, 5, 6, 2, 9, 3, 2, 9, 6, 5, 7, 8, 6, 1, 0, 6, 2, 8, 7, 4,\n",
       "       9, 9, 5, 4, 0, 3, 4, 6, 5, 6, 8, 1, 8, 6, 6, 8, 5, 0, 8, 5, 7, 5,\n",
       "       9, 2, 5, 5, 3, 4, 1, 6, 1, 8, 9, 2, 8, 4, 4, 7, 8, 3, 9, 6, 9, 1,\n",
       "       2, 1, 2, 4, 4, 0, 3, 0, 7, 9, 5, 1, 5, 6, 2, 2, 1, 3, 1, 5, 8, 4,\n",
       "       3, 8, 9, 2, 5, 4, 8, 4, 6, 5, 1, 1, 0, 9, 6, 8, 2, 1, 7, 7, 9, 3,\n",
       "       8, 0, 7, 2, 1, 2, 6, 4, 3, 5, 5, 1, 7, 8, 2, 0, 5, 9, 7, 7, 3, 2,\n",
       "       3, 4, 5, 1, 0, 8, 3, 3, 4, 8, 3, 7, 5, 5, 7, 1, 5, 6, 9, 5, 4, 5,\n",
       "       6, 8, 0, 6, 2, 7, 3, 5, 8, 6, 8, 5, 7, 3, 6, 0, 0, 2, 3, 2, 4, 7,\n",
       "       9, 4, 4, 3, 5, 3, 8, 5, 7, 9, 2, 0])"
      ]
     },
     "execution_count": 28,
     "metadata": {},
     "output_type": "execute_result"
    }
   ],
   "source": [
    "y_pred"
   ]
  },
  {
   "cell_type": "markdown",
   "id": "dca52cd8",
   "metadata": {
    "papermill": {
     "duration": 0.017074,
     "end_time": "2024-06-25T07:27:36.089465",
     "exception": false,
     "start_time": "2024-06-25T07:27:36.072391",
     "status": "completed"
    },
    "tags": []
   },
   "source": [
    "array([5, 1, 0, 6, 8, 7, 7, 6, 0, 6, 8, 8, 0, 7, 9, 3, 5, 3, 9, 3, 8, 1,\n",
    "       3, 6, 1, 7, 2, 4, 2, 3, 9, 7, 6, 6, 3, 0, 8, 1, 5, 5, 8, 4, 2, 5,\n",
    "       6, 3, 3, 2, 9, 4, 7, 7, 0, 4, 1, 6, 8, 5, 2, 2, 7, 3, 3, 6, 1, 7,\n",
    "       2, 3, 3, 7, 1, 1, 5, 6, 8, 6, 0, 3, 6, 7, 2, 3, 5, 9, 2, 2, 6, 1,\n",
    "       2, 0, 5, 0, 4, 7, 8, 5, 6, 8, 6, 1, 3, 6, 7, 0, 2, 0, 1, 1, 7, 4,\n",
    "       4, 8, 7, 9, 7, 5, 2, 6, 4, 0, 7, 5, 4, 8, 0, 1, 4, 4, 6, 5, 7, 0,\n",
    "       5, 5, 5, 4, 7, 5, 3, 4, 9, 5, 1, 2, 3, 0, 7, 8, 9, 5, 6, 4, 6, 5,\n",
    "       1, 2, 6, 3, 2, 2, 0, 7, 0, 8, 9, 1, 2, 7, 2, 5, 7, 1, 1, 9, 0, 8,\n",
    "       9, 5, 3, 0, 8, 5, 2, 9, 4, 1, 9, 8, 2, 7, 4, 8, 2, 2, 6, 7, 0, 8,\n",
    "       3, 4, 2, 9, 4, 0, 4, 8, 9, 4, 5, 4, 1, 2, 4, 8, 0, 6, 4, 7, 1, 9,\n",
    "       9, 9, 2, 0, 7, 7, 7, 5, 7, 0, 0, 0, 1, 2, 3, 3, 3, 0, 0, 5, 2, 4,\n",
    "       7, 5, 5, 1, 8, 5, 6, 1, 7, 3, 6, 9, 7, 8, 3, 8, 6, 4, 9, 9, 0, 2,\n",
    "       6, 9, 3, 3, 4, 3, 8, 9, 9, 4, 2, 3, 7, 6, 8, 3, 4, 4, 8, 1, 3, 3,\n",
    "       1, 5, 4, 7, 5, 7, 6, 8, 8, 6, 1, 1, 4, 0, 0, 3, 9, 2, 6, 4, 6, 0,\n",
    "       5, 6, 3, 0, 4, 1, 8, 2, 8, 4, 9, 8, 5, 5, 3, 4, 3, 0, 0, 1, 1, 7,\n",
    "       5, 7, 2, 8, 1, 4, 2, 9, 3, 1, 8, 9, 6, 9, 1, 7, 9, 5, 7, 8, 7, 2,\n",
    "       4, 4, 3, 6, 0, 3, 1, 9, 4, 1, 5, 8, 6, 3, 8, 6, 4, 9, 6, 4, 9, 4,\n",
    "       5, 9, 7, 4, 9, 8, 3, 7, 1, 7, 4, 3, 7, 1, 2, 9, 3, 9, 5, 4, 6, 6,\n",
    "       7, 0, 6, 4, 3, 8, 3, 4, 6, 1, 7, 2, 5, 8, 0, 2, 8, 2, 3, 4, 7, 3,\n",
    "       3, 3, 2, 0, 6, 3, 8, 1, 0, 9, 5, 7, 4, 4, 5, 2, 5, 6, 3, 4, 2, 6,\n",
    "       7, 0, 8, 9, 6, 8, 4, 6, 7, 9, 2, 0, 3, 8, 8, 4, 7, 2, 6, 9, 9, 9,\n",
    "       1, 4, 0, 0, 7, 5, 5, 6, 8, 1, 0, 7, 4, 4, 1, 5, 0, 1, 6, 8, 7, 0,\n",
    "       4, 9, 9, 4, 9, 2, 1, 3, 7, 1, 6, 7, 7, 0, 3, 7, 8, 3, 0, 9, 5, 8,\n",
    "       0, 2, 4, 4, 2, 4, 4, 7, 6, 0, 9, 9, 0, 5, 0, 5, 0, 2, 9, 7, 1, 0,\n",
    "       3, 2, 3, 8, 5, 4, 3, 7, 2, 1, 9, 9])"
   ]
  },
  {
   "cell_type": "code",
   "execution_count": 29,
   "id": "ba324a3f",
   "metadata": {
    "execution": {
     "iopub.execute_input": "2024-06-25T07:27:36.126599Z",
     "iopub.status.busy": "2024-06-25T07:27:36.126188Z",
     "iopub.status.idle": "2024-06-25T07:27:36.131533Z",
     "shell.execute_reply": "2024-06-25T07:27:36.130403Z"
    },
    "id": "UfW3kxdApnsZ",
    "papermill": {
     "duration": 0.027249,
     "end_time": "2024-06-25T07:27:36.134224",
     "exception": false,
     "start_time": "2024-06-25T07:27:36.106975",
     "status": "completed"
    },
    "tags": []
   },
   "outputs": [],
   "source": [
    "from sklearn.metrics import confusion_matrix, classification_report"
   ]
  },
  {
   "cell_type": "code",
   "execution_count": 30,
   "id": "5fea59c6",
   "metadata": {
    "execution": {
     "iopub.execute_input": "2024-06-25T07:27:36.171617Z",
     "iopub.status.busy": "2024-06-25T07:27:36.170602Z",
     "iopub.status.idle": "2024-06-25T07:27:36.179675Z",
     "shell.execute_reply": "2024-06-25T07:27:36.178704Z"
    },
    "id": "OrXquVmWpwgz",
    "outputId": "c62631f0-ed45-42c7-e740-e4b36657f3a8",
    "papermill": {
     "duration": 0.030357,
     "end_time": "2024-06-25T07:27:36.182114",
     "exception": false,
     "start_time": "2024-06-25T07:27:36.151757",
     "status": "completed"
    },
    "tags": []
   },
   "outputs": [
    {
     "data": {
      "text/plain": [
       "array([[41,  0,  0,  0,  0,  0,  0,  0,  0,  0],\n",
       "       [ 0, 59,  0,  0,  0,  0,  0,  0,  0,  0],\n",
       "       [ 0,  0, 48,  0,  0,  0,  0,  0,  0,  0],\n",
       "       [ 0,  0,  0, 51,  0,  3,  0,  1,  0,  1],\n",
       "       [ 0,  0,  0,  0, 61,  0,  0,  0,  0,  0],\n",
       "       [ 0,  0,  0,  0,  0, 48,  0,  0,  1,  0],\n",
       "       [ 1,  0,  0,  0,  0,  1, 63,  0,  0,  0],\n",
       "       [ 0,  0,  0,  0,  0,  0,  0, 42,  0,  0],\n",
       "       [ 0,  2,  1,  0,  0,  2,  1,  1, 57,  0],\n",
       "       [ 0,  0,  0,  1,  0,  0,  0,  5,  0, 49]])"
      ]
     },
     "execution_count": 30,
     "metadata": {},
     "output_type": "execute_result"
    }
   ],
   "source": [
    "confusion_matrix(y_test, y_pred)"
   ]
  },
  {
   "cell_type": "markdown",
   "id": "6d82527d",
   "metadata": {
    "papermill": {
     "duration": 0.017615,
     "end_time": "2024-06-25T07:27:36.217256",
     "exception": false,
     "start_time": "2024-06-25T07:27:36.199641",
     "status": "completed"
    },
    "tags": []
   },
   "source": [
    "array([[53,  0,  0,  0,  2,  0,  0,  0,  0,  0],\n",
    "       [ 0, 46,  0,  0,  0,  0,  0,  0,  0,  0],\n",
    "       [ 0,  0, 49,  0,  0,  0,  0,  0,  0,  0],\n",
    "       [ 0,  0,  0, 58,  0,  1,  0,  2,  0,  1],\n",
    "       [ 0,  0,  0,  0, 60,  0,  0,  1,  0,  0],\n",
    "       [ 0,  0,  0,  0,  1, 47,  0,  0,  1,  1],\n",
    "       [ 1,  0,  0,  0,  0,  1, 52,  0,  0,  0],\n",
    "       [ 0,  0,  0,  0,  0,  0,  0, 59,  0,  1],\n",
    "       [ 0,  2,  1,  0,  0,  0,  0,  0, 49,  0],\n",
    "       [ 0,  0,  0,  0,  0,  1,  0,  0,  1, 49]])"
   ]
  },
  {
   "cell_type": "code",
   "execution_count": 31,
   "id": "08d66877",
   "metadata": {
    "execution": {
     "iopub.execute_input": "2024-06-25T07:27:36.256608Z",
     "iopub.status.busy": "2024-06-25T07:27:36.256190Z",
     "iopub.status.idle": "2024-06-25T07:27:36.273009Z",
     "shell.execute_reply": "2024-06-25T07:27:36.271758Z"
    },
    "id": "F3At0Qv8p18_",
    "outputId": "ba9a897c-fb31-40bb-faef-f09ad0dc7175",
    "papermill": {
     "duration": 0.039455,
     "end_time": "2024-06-25T07:27:36.276511",
     "exception": false,
     "start_time": "2024-06-25T07:27:36.237056",
     "status": "completed"
    },
    "tags": []
   },
   "outputs": [
    {
     "name": "stdout",
     "output_type": "stream",
     "text": [
      "              precision    recall  f1-score   support\n",
      "\n",
      "           0       0.98      1.00      0.99        41\n",
      "           1       0.97      1.00      0.98        59\n",
      "           2       0.98      1.00      0.99        48\n",
      "           3       0.98      0.91      0.94        56\n",
      "           4       1.00      1.00      1.00        61\n",
      "           5       0.89      0.98      0.93        49\n",
      "           6       0.98      0.97      0.98        65\n",
      "           7       0.86      1.00      0.92        42\n",
      "           8       0.98      0.89      0.93        64\n",
      "           9       0.98      0.89      0.93        55\n",
      "\n",
      "    accuracy                           0.96       540\n",
      "   macro avg       0.96      0.96      0.96       540\n",
      "weighted avg       0.96      0.96      0.96       540\n",
      "\n"
     ]
    }
   ],
   "source": [
    "print(classification_report(y_test,y_pred))"
   ]
  },
  {
   "cell_type": "code",
   "execution_count": 32,
   "id": "dd34f472",
   "metadata": {
    "execution": {
     "iopub.execute_input": "2024-06-25T07:27:36.315580Z",
     "iopub.status.busy": "2024-06-25T07:27:36.315168Z",
     "iopub.status.idle": "2024-06-25T07:27:36.323458Z",
     "shell.execute_reply": "2024-06-25T07:27:36.321967Z"
    },
    "id": "ZhSKRxVip8pC",
    "papermill": {
     "duration": 0.030584,
     "end_time": "2024-06-25T07:27:36.325593",
     "exception": true,
     "start_time": "2024-06-25T07:27:36.295009",
     "status": "failed"
    },
    "tags": []
   },
   "outputs": [
    {
     "ename": "IndentationError",
     "evalue": "unindent does not match any outer indentation level (<tokenize>, line 14)",
     "output_type": "error",
     "traceback": [
      "\u001b[0;36m  File \u001b[0;32m<tokenize>:14\u001b[0;36m\u001b[0m\n\u001b[0;31m    accuracy       0.97      0.97      0.97       540\u001b[0m\n\u001b[0m    ^\u001b[0m\n\u001b[0;31mIndentationError\u001b[0m\u001b[0;31m:\u001b[0m unindent does not match any outer indentation level\n"
     ]
    }
   ],
   "source": [
    "precision    recall  f1-score   support\n",
    "\n",
    "           0       0.98      0.96      0.97        55\n",
    "           1       0.96      1.00      0.98        46\n",
    "           2       0.98      1.00      0.99        49\n",
    "           3       1.00      0.94      0.97        62\n",
    "           4       0.95      0.98      0.97        61\n",
    "           5       0.94      0.94      0.94        50\n",
    "           6       1.00      0.96      0.98        54\n",
    "           7       0.95      0.98      0.97        60\n",
    "           8       0.96      0.94      0.95        52\n",
    "           9       0.94      0.96      0.95        51\n",
    "\n",
    "    accuracy       0.97      0.97      0.97       540\n",
    "   macro avg       0.97      0.97      0.97       540\n",
    "weighted avg       0.97      0.97      0.97       540"
   ]
  },
  {
   "cell_type": "markdown",
   "id": "ed708577",
   "metadata": {
    "papermill": {
     "duration": null,
     "end_time": null,
     "exception": null,
     "start_time": null,
     "status": "pending"
    },
    "tags": []
   },
   "source": [
    "**End Explanation:**\n",
    "The main Objective of this project is to Successfully identify the handwritten digits from 0-9 and we have completed it successfully."
   ]
  }
 ],
 "metadata": {
  "kaggle": {
   "accelerator": "none",
   "dataSources": [],
   "dockerImageVersionId": 30497,
   "isGpuEnabled": false,
   "isInternetEnabled": false,
   "language": "python",
   "sourceType": "notebook"
  },
  "kernelspec": {
   "display_name": "Python 3",
   "language": "python",
   "name": "python3"
  },
  "language_info": {
   "codemirror_mode": {
    "name": "ipython",
    "version": 3
   },
   "file_extension": ".py",
   "mimetype": "text/x-python",
   "name": "python",
   "nbconvert_exporter": "python",
   "pygments_lexer": "ipython3",
   "version": "3.10.10"
  },
  "papermill": {
   "default_parameters": {},
   "duration": 20.877163,
   "end_time": "2024-06-25T07:27:37.368691",
   "environment_variables": {},
   "exception": true,
   "input_path": "__notebook__.ipynb",
   "output_path": "__notebook__.ipynb",
   "parameters": {},
   "start_time": "2024-06-25T07:27:16.491528",
   "version": "2.4.0"
  }
 },
 "nbformat": 4,
 "nbformat_minor": 5
}
